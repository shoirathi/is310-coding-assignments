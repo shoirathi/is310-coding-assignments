{
 "cells": [
  {
   "cell_type": "code",
   "execution_count": null,
   "id": "e731860b-0771-468e-b1bd-31f85eb3a586",
   "metadata": {},
   "outputs": [],
   "source": []
  }
 ],
 "metadata": {
  "kernelspec": {
   "display_name": "is310-class-env",
   "language": "python",
   "name": "is310-class-env"
  },
  "language_info": {
   "codemirror_mode": {
    "name": "ipython",
    "version": 3
   },
   "file_extension": ".py",
   "mimetype": "text/x-python",
   "name": "python",
   "nbconvert_exporter": "python",
   "pygments_lexer": "ipython3",
   "version": "3.11.9"
  }
 },
 "nbformat": 4,
 "nbformat_minor": 5
}
